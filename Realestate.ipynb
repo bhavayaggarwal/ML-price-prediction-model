{
 "cells": [
  {
   "cell_type": "code",
   "execution_count": 87,
   "id": "d75c0d5e-b595-4185-b04c-3657df770a7f",
   "metadata": {},
   "outputs": [],
   "source": [
    "import pandas as pd\n"
   ]
  },
  {
   "cell_type": "code",
   "execution_count": 88,
   "id": "bdee3f63-11b0-4bee-b109-4d3c7b5466c3",
   "metadata": {},
   "outputs": [],
   "source": [
    "housing = pd.read_csv(\"housingdata.csv\")"
   ]
  },
  {
   "cell_type": "code",
   "execution_count": 89,
   "id": "730b2f9f-e07b-4142-992c-9638e5466d1a",
   "metadata": {},
   "outputs": [
    {
     "data": {
      "text/html": [
       "<div>\n",
       "<style scoped>\n",
       "    .dataframe tbody tr th:only-of-type {\n",
       "        vertical-align: middle;\n",
       "    }\n",
       "\n",
       "    .dataframe tbody tr th {\n",
       "        vertical-align: top;\n",
       "    }\n",
       "\n",
       "    .dataframe thead th {\n",
       "        text-align: right;\n",
       "    }\n",
       "</style>\n",
       "<table border=\"1\" class=\"dataframe\">\n",
       "  <thead>\n",
       "    <tr style=\"text-align: right;\">\n",
       "      <th></th>\n",
       "      <th>CRIM</th>\n",
       "      <th>ZN</th>\n",
       "      <th>INDUS</th>\n",
       "      <th>CHAS</th>\n",
       "      <th>NOX</th>\n",
       "      <th>RM</th>\n",
       "      <th>AGE</th>\n",
       "      <th>DIS</th>\n",
       "      <th>RAD</th>\n",
       "      <th>TAX</th>\n",
       "      <th>PTRATIO</th>\n",
       "      <th>B</th>\n",
       "      <th>LSTAT</th>\n",
       "      <th>MEDV</th>\n",
       "    </tr>\n",
       "  </thead>\n",
       "  <tbody>\n",
       "    <tr>\n",
       "      <th>0</th>\n",
       "      <td>0.02731</td>\n",
       "      <td>0.0</td>\n",
       "      <td>7.07</td>\n",
       "      <td>0.0</td>\n",
       "      <td>0.469</td>\n",
       "      <td>6.421</td>\n",
       "      <td>78.9</td>\n",
       "      <td>4.9671</td>\n",
       "      <td>2</td>\n",
       "      <td>242.0</td>\n",
       "      <td>17.8</td>\n",
       "      <td>396.90</td>\n",
       "      <td>9.14</td>\n",
       "      <td>21.6</td>\n",
       "    </tr>\n",
       "    <tr>\n",
       "      <th>1</th>\n",
       "      <td>0.02729</td>\n",
       "      <td>0.0</td>\n",
       "      <td>7.07</td>\n",
       "      <td>0.0</td>\n",
       "      <td>0.469</td>\n",
       "      <td>7.185</td>\n",
       "      <td>61.1</td>\n",
       "      <td>4.9671</td>\n",
       "      <td>2</td>\n",
       "      <td>242.0</td>\n",
       "      <td>17.8</td>\n",
       "      <td>392.83</td>\n",
       "      <td>4.03</td>\n",
       "      <td>34.7</td>\n",
       "    </tr>\n",
       "    <tr>\n",
       "      <th>2</th>\n",
       "      <td>0.03237</td>\n",
       "      <td>0.0</td>\n",
       "      <td>2.18</td>\n",
       "      <td>0.0</td>\n",
       "      <td>0.458</td>\n",
       "      <td>6.998</td>\n",
       "      <td>45.8</td>\n",
       "      <td>6.0622</td>\n",
       "      <td>3</td>\n",
       "      <td>222.0</td>\n",
       "      <td>18.7</td>\n",
       "      <td>394.63</td>\n",
       "      <td>2.94</td>\n",
       "      <td>33.4</td>\n",
       "    </tr>\n",
       "    <tr>\n",
       "      <th>3</th>\n",
       "      <td>0.06905</td>\n",
       "      <td>0.0</td>\n",
       "      <td>2.18</td>\n",
       "      <td>0.0</td>\n",
       "      <td>0.458</td>\n",
       "      <td>7.147</td>\n",
       "      <td>54.2</td>\n",
       "      <td>6.0622</td>\n",
       "      <td>3</td>\n",
       "      <td>222.0</td>\n",
       "      <td>18.7</td>\n",
       "      <td>396.90</td>\n",
       "      <td>5.33</td>\n",
       "      <td>36.2</td>\n",
       "    </tr>\n",
       "    <tr>\n",
       "      <th>4</th>\n",
       "      <td>0.02985</td>\n",
       "      <td>0.0</td>\n",
       "      <td>2.18</td>\n",
       "      <td>0.0</td>\n",
       "      <td>0.458</td>\n",
       "      <td>6.430</td>\n",
       "      <td>58.7</td>\n",
       "      <td>6.0622</td>\n",
       "      <td>3</td>\n",
       "      <td>222.0</td>\n",
       "      <td>18.7</td>\n",
       "      <td>394.12</td>\n",
       "      <td>5.21</td>\n",
       "      <td>28.7</td>\n",
       "    </tr>\n",
       "  </tbody>\n",
       "</table>\n",
       "</div>"
      ],
      "text/plain": [
       "      CRIM   ZN  INDUS  CHAS    NOX     RM   AGE     DIS  RAD    TAX  PTRATIO  \\\n",
       "0  0.02731  0.0   7.07   0.0  0.469  6.421  78.9  4.9671    2  242.0     17.8   \n",
       "1  0.02729  0.0   7.07   0.0  0.469  7.185  61.1  4.9671    2  242.0     17.8   \n",
       "2  0.03237  0.0   2.18   0.0  0.458  6.998  45.8  6.0622    3  222.0     18.7   \n",
       "3  0.06905  0.0   2.18   0.0  0.458  7.147  54.2  6.0622    3  222.0     18.7   \n",
       "4  0.02985  0.0   2.18   0.0  0.458  6.430  58.7  6.0622    3  222.0     18.7   \n",
       "\n",
       "        B  LSTAT  MEDV  \n",
       "0  396.90   9.14  21.6  \n",
       "1  392.83   4.03  34.7  \n",
       "2  394.63   2.94  33.4  \n",
       "3  396.90   5.33  36.2  \n",
       "4  394.12   5.21  28.7  "
      ]
     },
     "execution_count": 89,
     "metadata": {},
     "output_type": "execute_result"
    }
   ],
   "source": [
    "housing.head()"
   ]
  },
  {
   "cell_type": "code",
   "execution_count": 90,
   "id": "dbfa3208-c179-4a67-bb2a-bb4d5b66b473",
   "metadata": {},
   "outputs": [],
   "source": [
    "housing['CHAS']=housing['CHAS'].apply(lambda x: 0 if x<1 else 1)"
   ]
  },
  {
   "cell_type": "code",
   "execution_count": 91,
   "id": "5d1573e9-c4c2-4772-9d10-71398c9ac4c1",
   "metadata": {},
   "outputs": [
    {
     "data": {
      "text/plain": [
       "CHAS\n",
       "0    471\n",
       "1     35\n",
       "Name: count, dtype: int64"
      ]
     },
     "execution_count": 91,
     "metadata": {},
     "output_type": "execute_result"
    }
   ],
   "source": [
    "housing['CHAS'].value_counts()\n"
   ]
  },
  {
   "cell_type": "code",
   "execution_count": 92,
   "id": "95feb5ef-c50c-468e-bf67-2bd3b2872018",
   "metadata": {},
   "outputs": [],
   "source": [
    "from sklearn.impute import KNNImputer\n",
    "knn_imputer = KNNImputer(n_neighbors=5)\n",
    "housing['MEDV'] = knn_imputer.fit_transform(housing[['MEDV']])"
   ]
  },
  {
   "cell_type": "code",
   "execution_count": 93,
   "id": "746867c9-1e0e-461a-8e39-97a062c2baee",
   "metadata": {},
   "outputs": [
    {
     "name": "stdout",
     "output_type": "stream",
     "text": [
      "<class 'pandas.core.frame.DataFrame'>\n",
      "RangeIndex: 506 entries, 0 to 505\n",
      "Data columns (total 14 columns):\n",
      " #   Column   Non-Null Count  Dtype  \n",
      "---  ------   --------------  -----  \n",
      " 0   CRIM     506 non-null    float64\n",
      " 1   ZN       506 non-null    float64\n",
      " 2   INDUS    506 non-null    float64\n",
      " 3   CHAS     506 non-null    int64  \n",
      " 4   NOX      506 non-null    float64\n",
      " 5   RM       497 non-null    float64\n",
      " 6   AGE      506 non-null    float64\n",
      " 7   DIS      506 non-null    float64\n",
      " 8   RAD      506 non-null    int64  \n",
      " 9   TAX      506 non-null    float64\n",
      " 10  PTRATIO  506 non-null    float64\n",
      " 11  B        506 non-null    float64\n",
      " 12  LSTAT    506 non-null    float64\n",
      " 13  MEDV     506 non-null    float64\n",
      "dtypes: float64(12), int64(2)\n",
      "memory usage: 55.5 KB\n"
     ]
    }
   ],
   "source": [
    "housing.info()"
   ]
  },
  {
   "cell_type": "code",
   "execution_count": 94,
   "id": "5c286cdd-2229-4f4b-bce5-0323127e9a68",
   "metadata": {},
   "outputs": [
    {
     "name": "stdout",
     "output_type": "stream",
     "text": [
      "<class 'pandas.core.frame.DataFrame'>\n",
      "RangeIndex: 506 entries, 0 to 505\n",
      "Data columns (total 14 columns):\n",
      " #   Column   Non-Null Count  Dtype  \n",
      "---  ------   --------------  -----  \n",
      " 0   CRIM     506 non-null    float64\n",
      " 1   ZN       506 non-null    float64\n",
      " 2   INDUS    506 non-null    float64\n",
      " 3   CHAS     506 non-null    int64  \n",
      " 4   NOX      506 non-null    float64\n",
      " 5   RM       497 non-null    float64\n",
      " 6   AGE      506 non-null    float64\n",
      " 7   DIS      506 non-null    float64\n",
      " 8   RAD      506 non-null    int64  \n",
      " 9   TAX      506 non-null    float64\n",
      " 10  PTRATIO  506 non-null    float64\n",
      " 11  B        506 non-null    float64\n",
      " 12  LSTAT    506 non-null    float64\n",
      " 13  MEDV     506 non-null    float64\n",
      "dtypes: float64(12), int64(2)\n",
      "memory usage: 55.5 KB\n"
     ]
    }
   ],
   "source": [
    "housing.info()"
   ]
  },
  {
   "cell_type": "code",
   "execution_count": 95,
   "id": "e7d31b30-5ded-40c4-be20-eb7e081adb0a",
   "metadata": {},
   "outputs": [
    {
     "data": {
      "text/html": [
       "<div>\n",
       "<style scoped>\n",
       "    .dataframe tbody tr th:only-of-type {\n",
       "        vertical-align: middle;\n",
       "    }\n",
       "\n",
       "    .dataframe tbody tr th {\n",
       "        vertical-align: top;\n",
       "    }\n",
       "\n",
       "    .dataframe thead th {\n",
       "        text-align: right;\n",
       "    }\n",
       "</style>\n",
       "<table border=\"1\" class=\"dataframe\">\n",
       "  <thead>\n",
       "    <tr style=\"text-align: right;\">\n",
       "      <th></th>\n",
       "      <th>CRIM</th>\n",
       "      <th>ZN</th>\n",
       "      <th>INDUS</th>\n",
       "      <th>CHAS</th>\n",
       "      <th>NOX</th>\n",
       "      <th>RM</th>\n",
       "      <th>AGE</th>\n",
       "      <th>DIS</th>\n",
       "      <th>RAD</th>\n",
       "      <th>TAX</th>\n",
       "      <th>PTRATIO</th>\n",
       "      <th>B</th>\n",
       "      <th>LSTAT</th>\n",
       "      <th>MEDV</th>\n",
       "    </tr>\n",
       "  </thead>\n",
       "  <tbody>\n",
       "    <tr>\n",
       "      <th>count</th>\n",
       "      <td>506.000000</td>\n",
       "      <td>506.000000</td>\n",
       "      <td>506.000000</td>\n",
       "      <td>506.000000</td>\n",
       "      <td>506.000000</td>\n",
       "      <td>497.000000</td>\n",
       "      <td>506.000000</td>\n",
       "      <td>506.000000</td>\n",
       "      <td>506.000000</td>\n",
       "      <td>506.000000</td>\n",
       "      <td>506.000000</td>\n",
       "      <td>506.000000</td>\n",
       "      <td>506.000000</td>\n",
       "      <td>506.000000</td>\n",
       "    </tr>\n",
       "    <tr>\n",
       "      <th>mean</th>\n",
       "      <td>1.269195</td>\n",
       "      <td>13.295257</td>\n",
       "      <td>9.205158</td>\n",
       "      <td>0.069170</td>\n",
       "      <td>1.101175</td>\n",
       "      <td>15.846559</td>\n",
       "      <td>58.744660</td>\n",
       "      <td>6.173308</td>\n",
       "      <td>78.063241</td>\n",
       "      <td>339.317787</td>\n",
       "      <td>42.614980</td>\n",
       "      <td>332.791107</td>\n",
       "      <td>11.537806</td>\n",
       "      <td>23.750442</td>\n",
       "    </tr>\n",
       "    <tr>\n",
       "      <th>std</th>\n",
       "      <td>2.399207</td>\n",
       "      <td>23.048697</td>\n",
       "      <td>7.169630</td>\n",
       "      <td>0.253994</td>\n",
       "      <td>1.646991</td>\n",
       "      <td>27.437297</td>\n",
       "      <td>33.104049</td>\n",
       "      <td>6.476435</td>\n",
       "      <td>203.542157</td>\n",
       "      <td>180.670077</td>\n",
       "      <td>87.585243</td>\n",
       "      <td>125.322456</td>\n",
       "      <td>6.064932</td>\n",
       "      <td>8.324335</td>\n",
       "    </tr>\n",
       "    <tr>\n",
       "      <th>min</th>\n",
       "      <td>0.000000</td>\n",
       "      <td>0.000000</td>\n",
       "      <td>0.000000</td>\n",
       "      <td>0.000000</td>\n",
       "      <td>0.385000</td>\n",
       "      <td>3.561000</td>\n",
       "      <td>1.137000</td>\n",
       "      <td>1.129600</td>\n",
       "      <td>1.000000</td>\n",
       "      <td>20.200000</td>\n",
       "      <td>2.600000</td>\n",
       "      <td>0.320000</td>\n",
       "      <td>1.730000</td>\n",
       "      <td>6.300000</td>\n",
       "    </tr>\n",
       "    <tr>\n",
       "      <th>25%</th>\n",
       "      <td>0.049443</td>\n",
       "      <td>0.000000</td>\n",
       "      <td>3.440000</td>\n",
       "      <td>0.000000</td>\n",
       "      <td>0.449000</td>\n",
       "      <td>5.965000</td>\n",
       "      <td>32.000000</td>\n",
       "      <td>2.430575</td>\n",
       "      <td>4.000000</td>\n",
       "      <td>254.000000</td>\n",
       "      <td>17.000000</td>\n",
       "      <td>364.995000</td>\n",
       "      <td>6.877500</td>\n",
       "      <td>19.000000</td>\n",
       "    </tr>\n",
       "    <tr>\n",
       "      <th>50%</th>\n",
       "      <td>0.144655</td>\n",
       "      <td>0.000000</td>\n",
       "      <td>6.960000</td>\n",
       "      <td>0.000000</td>\n",
       "      <td>0.538000</td>\n",
       "      <td>6.326000</td>\n",
       "      <td>65.250000</td>\n",
       "      <td>3.925850</td>\n",
       "      <td>5.000000</td>\n",
       "      <td>307.000000</td>\n",
       "      <td>18.900000</td>\n",
       "      <td>390.660000</td>\n",
       "      <td>10.380000</td>\n",
       "      <td>22.750000</td>\n",
       "    </tr>\n",
       "    <tr>\n",
       "      <th>75%</th>\n",
       "      <td>0.819623</td>\n",
       "      <td>18.100000</td>\n",
       "      <td>18.100000</td>\n",
       "      <td>0.000000</td>\n",
       "      <td>0.647000</td>\n",
       "      <td>6.951000</td>\n",
       "      <td>89.975000</td>\n",
       "      <td>6.332075</td>\n",
       "      <td>24.000000</td>\n",
       "      <td>403.000000</td>\n",
       "      <td>20.200000</td>\n",
       "      <td>395.615000</td>\n",
       "      <td>15.015000</td>\n",
       "      <td>25.000000</td>\n",
       "    </tr>\n",
       "    <tr>\n",
       "      <th>max</th>\n",
       "      <td>9.966540</td>\n",
       "      <td>100.000000</td>\n",
       "      <td>27.740000</td>\n",
       "      <td>1.000000</td>\n",
       "      <td>7.313000</td>\n",
       "      <td>100.000000</td>\n",
       "      <td>100.000000</td>\n",
       "      <td>24.000000</td>\n",
       "      <td>666.000000</td>\n",
       "      <td>711.000000</td>\n",
       "      <td>396.900000</td>\n",
       "      <td>396.900000</td>\n",
       "      <td>34.410000</td>\n",
       "      <td>50.000000</td>\n",
       "    </tr>\n",
       "  </tbody>\n",
       "</table>\n",
       "</div>"
      ],
      "text/plain": [
       "             CRIM          ZN       INDUS        CHAS         NOX          RM  \\\n",
       "count  506.000000  506.000000  506.000000  506.000000  506.000000  497.000000   \n",
       "mean     1.269195   13.295257    9.205158    0.069170    1.101175   15.846559   \n",
       "std      2.399207   23.048697    7.169630    0.253994    1.646991   27.437297   \n",
       "min      0.000000    0.000000    0.000000    0.000000    0.385000    3.561000   \n",
       "25%      0.049443    0.000000    3.440000    0.000000    0.449000    5.965000   \n",
       "50%      0.144655    0.000000    6.960000    0.000000    0.538000    6.326000   \n",
       "75%      0.819623   18.100000   18.100000    0.000000    0.647000    6.951000   \n",
       "max      9.966540  100.000000   27.740000    1.000000    7.313000  100.000000   \n",
       "\n",
       "              AGE         DIS         RAD         TAX     PTRATIO           B  \\\n",
       "count  506.000000  506.000000  506.000000  506.000000  506.000000  506.000000   \n",
       "mean    58.744660    6.173308   78.063241  339.317787   42.614980  332.791107   \n",
       "std     33.104049    6.476435  203.542157  180.670077   87.585243  125.322456   \n",
       "min      1.137000    1.129600    1.000000   20.200000    2.600000    0.320000   \n",
       "25%     32.000000    2.430575    4.000000  254.000000   17.000000  364.995000   \n",
       "50%     65.250000    3.925850    5.000000  307.000000   18.900000  390.660000   \n",
       "75%     89.975000    6.332075   24.000000  403.000000   20.200000  395.615000   \n",
       "max    100.000000   24.000000  666.000000  711.000000  396.900000  396.900000   \n",
       "\n",
       "            LSTAT        MEDV  \n",
       "count  506.000000  506.000000  \n",
       "mean    11.537806   23.750442  \n",
       "std      6.064932    8.324335  \n",
       "min      1.730000    6.300000  \n",
       "25%      6.877500   19.000000  \n",
       "50%     10.380000   22.750000  \n",
       "75%     15.015000   25.000000  \n",
       "max     34.410000   50.000000  "
      ]
     },
     "execution_count": 95,
     "metadata": {},
     "output_type": "execute_result"
    }
   ],
   "source": [
    "housing.describe()"
   ]
  },
  {
   "cell_type": "code",
   "execution_count": 96,
   "id": "de55fa61-b462-4818-bd85-96c21ee7526c",
   "metadata": {},
   "outputs": [
    {
     "data": {
      "text/plain": [
       "0.02729"
      ]
     },
     "execution_count": 96,
     "metadata": {},
     "output_type": "execute_result"
    }
   ],
   "source": [
    "housing['CRIM'][1]\n",
    "\n"
   ]
  },
  {
   "cell_type": "code",
   "execution_count": 97,
   "id": "e294eda7-b770-4cb1-9fe4-f19f90bf55e6",
   "metadata": {},
   "outputs": [
    {
     "data": {
      "text/plain": [
       "0.02729"
      ]
     },
     "execution_count": 97,
     "metadata": {},
     "output_type": "execute_result"
    }
   ],
   "source": [
    "housing['CRIM'][1]"
   ]
  },
  {
   "cell_type": "code",
   "execution_count": 98,
   "id": "b4ebc29b-4ab3-4b81-8bb1-987d067abbb2",
   "metadata": {},
   "outputs": [
    {
     "name": "stdout",
     "output_type": "stream",
     "text": [
      "<class 'pandas.core.frame.DataFrame'>\n",
      "RangeIndex: 506 entries, 0 to 505\n",
      "Data columns (total 14 columns):\n",
      " #   Column   Non-Null Count  Dtype  \n",
      "---  ------   --------------  -----  \n",
      " 0   CRIM     506 non-null    float64\n",
      " 1   ZN       506 non-null    float64\n",
      " 2   INDUS    506 non-null    float64\n",
      " 3   CHAS     506 non-null    int64  \n",
      " 4   NOX      506 non-null    float64\n",
      " 5   RM       497 non-null    float64\n",
      " 6   AGE      506 non-null    float64\n",
      " 7   DIS      506 non-null    float64\n",
      " 8   RAD      506 non-null    int64  \n",
      " 9   TAX      506 non-null    float64\n",
      " 10  PTRATIO  506 non-null    float64\n",
      " 11  B        506 non-null    float64\n",
      " 12  LSTAT    506 non-null    float64\n",
      " 13  MEDV     506 non-null    float64\n",
      "dtypes: float64(12), int64(2)\n",
      "memory usage: 55.5 KB\n"
     ]
    }
   ],
   "source": [
    "housing.info()"
   ]
  },
  {
   "cell_type": "code",
   "execution_count": 99,
   "id": "f34a619a-a620-453f-8872-a7ba92b3ead9",
   "metadata": {},
   "outputs": [],
   "source": [
    " import matplotlib as plt\n",
    "\n"
   ]
  },
  {
   "cell_type": "code",
   "execution_count": 100,
   "id": "12b944f0-4040-4176-b040-330de8794fd7",
   "metadata": {},
   "outputs": [
    {
     "data": {
      "text/plain": [
       "array([[<Axes: title={'center': 'MEDV'}>]], dtype=object)"
      ]
     },
     "execution_count": 100,
     "metadata": {},
     "output_type": "execute_result"
    },
    {
     "data": {
      "image/png": "[encoded data removed]",
      "text/plain": [
       "<Figure size 2000x2000 with 1 Axes>"
      ]
     },
     "metadata": {},
     "output_type": "display_data"
    }
   ],
   "source": [
    "housing.hist(column=[\"MEDV\"],bins=50,figsize=(20,20),grid=True,color=\"purple\" , alpha=1)"
   ]
  },
  {
   "cell_type": "markdown",
   "id": "7b2e16fb-5f8b-4961-92bd-4452ca65a504",
   "metadata": {},
   "source": [
    "## Train test Splitting\n"
   ]
  },
  {
   "cell_type": "code",
   "execution_count": 101,
   "id": "316c00dc-5d08-4db0-8490-92f68fc8dc63",
   "metadata": {},
   "outputs": [],
   "source": [
    "import numpy as np\n",
    "def split_train_test(data,test_ratio):\n",
    "    np.random.seed(42)\n",
    "\n",
    "    shuffled=np.random.permutation(len(data))\n",
    "    print(shuffled)\n",
    "    test_set_size=int(len(data) * test_ratio)\n",
    "    test_indicies=shuffled[:test_set_size]\n",
    "    train_indicies=shuffled[test_set_size:]\n",
    "    return data.iloc[train_indicies],data.iloc[test_indicies]"
   ]
  },
  {
   "cell_type": "code",
   "execution_count": 102,
   "id": "7d284f54-2272-4fe9-8c55-9cdaf7701d6c",
   "metadata": {},
   "outputs": [
    {
     "name": "stdout",
     "output_type": "stream",
     "text": [
      "[173 274 491  72 452  76 316 140 471 500 218   9 414  78 323 473 124 388\n",
      " 195 448 271 278  30 501 421 474  79 454 210 497 172 320 375 362 467 153\n",
      "   2 336 208  73 496 307 204  68  90 390  33  70 470   0  11 281  22 101\n",
      " 268 485 442 290  84 245  63  55 229  18 351 209 395  82  39 456  46 481\n",
      " 444 355  77 398 104 203 381 489  69 408 255 392 312 234 460 324  93 137\n",
      " 176 417 131 346 365 132 371 412 436 411  86  75 477  15 332 423  19 325\n",
      " 335  56 437 409 334 181 227 434 180  25 493 238 244 250 418 117  42 322\n",
      " 347 182 155 280 126 329  31 113 148 432 338  57 194  24  17 298  66 211\n",
      " 404  94 154 441  23 225 433 447   5 116  45  16 468 360   3 405 185  60\n",
      " 110 321 265  29 262 478  26   7 492 108  37 157 472 118 114 175 192 272\n",
      " 144 373 383 356 277 220 450 141 369  67 361 168 499 394 400 193 249 109\n",
      " 420 145  92 152 222 304  83 248 165 163 199 231  74 311 455 253 119 284\n",
      " 302 483 357 403 228 261 237 386 476  36 196 139 368 247 287 378  59 111\n",
      "  89 266   6 364 503 341 158 150 177 397 184 318  10 384 103  81  38 317\n",
      " 167 475 299 296 198 377 146 396 147 428 289 123 490  96 143 239 275  97\n",
      " 353 122 183 202 246 484 301 354 410 399 286 125 305 223 422 219 129 424\n",
      " 291 331 380 480 358 297 294 370 438 112 179 310 342 333 487 457 233 314\n",
      " 164 136 197 258 232 115 120 352 224 406 340 127 285 415 107 374 449 133\n",
      " 367  44 495  65 283  85 242 186 425 159  12  35  28 170 142 402 349 221\n",
      "  95  51 240 376 382 178  41 440 391 206 282 254 416   4 256 453 100 226\n",
      " 431 213 426 171  98 292 215  61  47  32 267 327 200 451  27 393 230 260\n",
      " 288 162 429 138  62 135 128 482   8 326 469  64 300  14 156  40 379 465\n",
      " 407 216 279 439 504 337 236 207 212 295 462 251 494 464 303 350 269 201\n",
      " 161  43 217 401 190 309 259 105  53 389   1 446 488  49 419  80 205  34\n",
      " 430 263 427 366  91 339 479  52 345 264 241  13 315  88 387 273 166 328\n",
      " 498 134 306 486 319 243  54 363  50 461 174 445 189 502 463 187 169  58\n",
      "  48 344 235 252  21 313 459 160 276 443 191 385 293 413 343 257 308 149\n",
      " 130 151 359  99 372  87 458 330 214 466 121 505  20 188  71 106 270 348\n",
      " 435 102]\n"
     ]
    }
   ],
   "source": [
    "train_set,test_set=split_train_test(housing,0.2)\n"
   ]
  },
  {
   "cell_type": "code",
   "execution_count": 103,
   "id": "f869d0c1-77cd-493e-804a-897fe9b6ed8a",
   "metadata": {},
   "outputs": [
    {
     "name": "stdout",
     "output_type": "stream",
     "text": [
      "Rows in train set is: 405\n",
      " rows in test set: 101\n",
      "\n"
     ]
    }
   ],
   "source": [
    "print(f\"Rows in train set is: {len(train_set)}\\n rows in test set: {len(test_set)}\\n\")"
   ]
  },
  {
   "cell_type": "code",
   "execution_count": 104,
   "id": "6eed13db-2569-49e1-9ec9-3f2441fafe04",
   "metadata": {},
   "outputs": [],
   "source": [
    "from sklearn.model_selection import StratifiedShuffleSplit\n",
    "split = StratifiedShuffleSplit(n_splits=1, test_size=0.2, random_state=42)\n",
    "for train_index, test_index in split.split(housing, housing[\"CHAS\"]):\n",
    "    strat_train_set = housing.loc[train_index]\n",
    "    strat_test_set = housing.loc[test_index]"
   ]
  },
  {
   "cell_type": "code",
   "execution_count": 105,
   "id": "f254768c-fbf0-44f0-b39d-2e80b2d54730",
   "metadata": {},
   "outputs": [
    {
     "data": {
      "text/plain": [
       "CHAS\n",
       "0    376\n",
       "1     28\n",
       "Name: count, dtype: int64"
      ]
     },
     "execution_count": 105,
     "metadata": {},
     "output_type": "execute_result"
    }
   ],
   "source": [
    "strat_train_set['CHAS'].value_counts()\n",
    "\n"
   ]
  },
  {
   "cell_type": "code",
   "execution_count": 106,
   "id": "9a4255ac-1dc0-4ef0-a31a-65ef085c2d6f",
   "metadata": {},
   "outputs": [
    {
     "data": {
      "text/plain": [
       "CHAS\n",
       "0    95\n",
       "1     7\n",
       "Name: count, dtype: int64"
      ]
     },
     "execution_count": 106,
     "metadata": {},
     "output_type": "execute_result"
    }
   ],
   "source": [
    "strat_test_set['CHAS'].value_counts()"
   ]
  },
  {
   "cell_type": "code",
   "execution_count": 107,
   "id": "7508fe73-9a77-4942-9d3d-c6e75af1b038",
   "metadata": {},
   "outputs": [],
   "source": [
    "#we have to take a copy now by \n",
    "housing=strat_train_set.copy()\n",
    "housing_test=strat_test_set.copy()\n",
    "#but as the set is already same so for edu purpose im not taking it"
   ]
  },
  {
   "cell_type": "markdown",
   "id": "4b121264-8f50-4b3f-8b8c-a126dff4d3d0",
   "metadata": {},
   "source": [
    "## LOOKING FOR CORRELATIONS\n"
   ]
  },
  {
   "cell_type": "code",
   "execution_count": 108,
   "id": "832a510d-c340-431f-b494-3b37b7ff1366",
   "metadata": {},
   "outputs": [],
   "source": [
    "corr_matrix=housing.corr()"
   ]
  },
  {
   "cell_type": "code",
   "execution_count": 109,
   "id": "7a3beb27-1fb1-42c4-9dea-e68d850ba3dc",
   "metadata": {},
   "outputs": [
    {
     "data": {
      "text/plain": [
       "LSTAT     -0.672034\n",
       "INDUS     -0.329366\n",
       "AGE       -0.243914\n",
       "CRIM      -0.243510\n",
       "TAX       -0.237555\n",
       "NOX       -0.014935\n",
       "PTRATIO   -0.005664\n",
       "RAD       -0.000223\n",
       "RM         0.022403\n",
       "DIS        0.040699\n",
       "B          0.130550\n",
       "CHAS       0.196546\n",
       "ZN         0.297921\n",
       "MEDV       1.000000\n",
       "Name: MEDV, dtype: float64"
      ]
     },
     "execution_count": 109,
     "metadata": {},
     "output_type": "execute_result"
    }
   ],
   "source": [
    "corr_matrix['MEDV'].sort_values()"
   ]
  },
  {
   "cell_type": "code",
   "execution_count": 110,
   "id": "d83ecdb6-5702-474f-b667-6852976f2451",
   "metadata": {},
   "outputs": [
    {
     "data": {
      "text/plain": [
       "array([[<Axes: xlabel='MEDV', ylabel='MEDV'>,\n",
       "        <Axes: xlabel='RM', ylabel='MEDV'>,\n",
       "        <Axes: xlabel='ZN', ylabel='MEDV'>,\n",
       "        <Axes: xlabel='LSTAT', ylabel='MEDV'>],\n",
       "       [<Axes: xlabel='MEDV', ylabel='RM'>,\n",
       "        <Axes: xlabel='RM', ylabel='RM'>,\n",
       "        <Axes: xlabel='ZN', ylabel='RM'>,\n",
       "        <Axes: xlabel='LSTAT', ylabel='RM'>],\n",
       "       [<Axes: xlabel='MEDV', ylabel='ZN'>,\n",
       "        <Axes: xlabel='RM', ylabel='ZN'>,\n",
       "        <Axes: xlabel='ZN', ylabel='ZN'>,\n",
       "        <Axes: xlabel='LSTAT', ylabel='ZN'>],\n",
       "       [<Axes: xlabel='MEDV', ylabel='LSTAT'>,\n",
       "        <Axes: xlabel='RM', ylabel='LSTAT'>,\n",
       "        <Axes: xlabel='ZN', ylabel='LSTAT'>,\n",
       "        <Axes: xlabel='LSTAT', ylabel='LSTAT'>]], dtype=object)"
      ]
     },
     "execution_count": 110,
     "metadata": {},
     "output_type": "execute_result"
    },
    {
     "data": {
      "image/png": "[encoded data removed]",
      "text/plain": [
       "<Figure size 640x480 with 16 Axes>"
      ]
     },
     "metadata": {},
     "output_type": "display_data"
    }
   ],
   "source": [
    "from pandas.plotting import scatter_matrix\n",
    "attributes=[\"MEDV\",\"RM\",\"ZN\",\"LSTAT\"]\n",
    "scatter_matrix(housing[attributes])"
   ]
  },
  {
   "cell_type": "code",
   "execution_count": 111,
   "id": "eeaa13e2-22ae-4a60-b30d-77a0a2702d28",
   "metadata": {},
   "outputs": [
    {
     "data": {
      "text/plain": [
       "CRIM      -0.243510\n",
       "ZN         0.297921\n",
       "INDUS     -0.329366\n",
       "CHAS       0.196546\n",
       "NOX       -0.014935\n",
       "RM         0.022403\n",
       "AGE       -0.243914\n",
       "DIS        0.040699\n",
       "RAD       -0.000223\n",
       "TAX       -0.237555\n",
       "PTRATIO   -0.005664\n",
       "B          0.130550\n",
       "LSTAT     -0.672034\n",
       "MEDV       1.000000\n",
       "Name: MEDV, dtype: float64"
      ]
     },
     "execution_count": 111,
     "metadata": {},
     "output_type": "execute_result"
    }
   ],
   "source": [
    "corr_mat=housing.corr()\n",
    "corr_mat['MEDV']"
   ]
  },
  {
   "cell_type": "code",
   "execution_count": 112,
   "id": "768ddd2f-c4e6-4638-adca-8e7824c593c1",
   "metadata": {},
   "outputs": [
    {
     "data": {
      "text/plain": [
       "<Axes: xlabel='RM', ylabel='MEDV'>"
      ]
     },
     "execution_count": 112,
     "metadata": {},
     "output_type": "execute_result"
    },
    {
     "data": {
      "image/png": "[encoded data removed]",
      "text/plain": [
       "<Figure size 640x480 with 1 Axes>"
      ]
     },
     "metadata": {},
     "output_type": "display_data"
    }
   ],
   "source": [
    "\n",
    "housing.plot(kind=\"scatter\",x=\"RM\",y=\"MEDV\",alpha=0.9)\n"
   ]
  },
  {
   "cell_type": "code",
   "execution_count": 113,
   "id": "a1cec06e-3719-495d-883f-5602bbfabf43",
   "metadata": {},
   "outputs": [
    {
     "data": {
      "text/plain": [
       "<Axes: xlabel='CRIM', ylabel='MEDV'>"
      ]
     },
     "execution_count": 113,
     "metadata": {},
     "output_type": "execute_result"
    },
    {
     "data": {
      "image/png": "[encoded data removed]",
      "text/plain": [
       "<Figure size 640x480 with 1 Axes>"
      ]
     },
     "metadata": {},
     "output_type": "display_data"
    }
   ],
   "source": [
    "housing.plot(kind=\"scatter\",x=\"CRIM\",y=\"MEDV\")"
   ]
  },
  {
   "cell_type": "code",
   "execution_count": 114,
   "id": "62aaaf47-9191-46e2-9af9-366061079089",
   "metadata": {},
   "outputs": [
    {
     "name": "stdout",
     "output_type": "stream",
     "text": [
      "<class 'pandas.core.series.Series'>\n",
      "Index: 404 entries, 254 to 215\n",
      "Series name: RM\n",
      "Non-Null Count  Dtype  \n",
      "--------------  -----  \n",
      "396 non-null    float64\n",
      "dtypes: float64(1)\n",
      "memory usage: 6.3 KB\n"
     ]
    }
   ],
   "source": [
    "housing[\"RM\"].info()"
   ]
  },
  {
   "cell_type": "markdown",
   "id": "6789eb22-d6ac-4cb9-8487-4903bc2f46bc",
   "metadata": {},
   "source": [
    "##MISSING ATTRIBUTES"
   ]
  },
  {
   "cell_type": "code",
   "execution_count": 115,
   "id": "f0b7ff3f-4366-4036-9b14-da22a2dd2ae3",
   "metadata": {},
   "outputs": [
    {
     "name": "stdout",
     "output_type": "stream",
     "text": [
      "<class 'pandas.core.series.Series'>\n",
      "Index: 404 entries, 254 to 215\n",
      "Series name: RM\n",
      "Non-Null Count  Dtype  \n",
      "--------------  -----  \n",
      "396 non-null    float64\n",
      "dtypes: float64(1)\n",
      "memory usage: 6.3 KB\n"
     ]
    }
   ],
   "source": [
    "housing[\"RM\"].info()"
   ]
  },
  {
   "cell_type": "markdown",
   "id": "548398c6-3e7d-4c82-a8a3-3a70ccbd1d12",
   "metadata": {},
   "source": [
    "### NOW WE See that 497 are the non null values in RM"
   ]
  },
  {
   "cell_type": "code",
   "execution_count": 116,
   "id": "437ba3bf-689a-4089-9788-9adb449fec14",
   "metadata": {},
   "outputs": [],
   "source": [
    "# seprsting featues and label (axis=1 means along column)\n",
    "housing=strat_train_set.drop(\"MEDV\",axis =1)\n",
    "housing_labels=strat_train_set[\"MEDV\"].copy()\n"
   ]
  },
  {
   "cell_type": "markdown",
   "id": "4781e33c-b24b-45fd-af6e-655647872699",
   "metadata": {},
   "source": [
    "## MISSING ATTRIBUTES"
   ]
  },
  {
   "cell_type": "markdown",
   "id": "de4756fa-5c1f-4e6c-bfff-dcdc5812df72",
   "metadata": {},
   "source": [
    "The attributes are missiing in RM\n",
    "\n",
    "WE have options\n",
    "1. Get rid of the missing data points\n",
    "2. Get rid of the whole attribute\n",
    "3. Set value to mean,median or zero"
   ]
  },
  {
   "cell_type": "code",
   "execution_count": 117,
   "id": "60328421-a422-4312-b53a-cfd20fc35c72",
   "metadata": {},
   "outputs": [
    {
     "data": {
      "text/plain": [
       "(396, 13)"
      ]
     },
     "execution_count": 117,
     "metadata": {},
     "output_type": "execute_result"
    }
   ],
   "source": [
    "# 1 st option\n",
    "a=housing.dropna(subset=[\"RM\"])\n",
    "a.shape"
   ]
  },
  {
   "cell_type": "code",
   "execution_count": 118,
   "id": "c930fe87-746f-4915-ba20-8b00f5bf41cc",
   "metadata": {},
   "outputs": [
    {
     "data": {
      "text/html": [
       "<div>\n",
       "<style scoped>\n",
       "    .dataframe tbody tr th:only-of-type {\n",
       "        vertical-align: middle;\n",
       "    }\n",
       "\n",
       "    .dataframe tbody tr th {\n",
       "        vertical-align: top;\n",
       "    }\n",
       "\n",
       "    .dataframe thead th {\n",
       "        text-align: right;\n",
       "    }\n",
       "</style>\n",
       "<table border=\"1\" class=\"dataframe\">\n",
       "  <thead>\n",
       "    <tr style=\"text-align: right;\">\n",
       "      <th></th>\n",
       "      <th>CRIM</th>\n",
       "      <th>ZN</th>\n",
       "      <th>INDUS</th>\n",
       "      <th>CHAS</th>\n",
       "      <th>NOX</th>\n",
       "      <th>AGE</th>\n",
       "      <th>DIS</th>\n",
       "      <th>RAD</th>\n",
       "      <th>TAX</th>\n",
       "      <th>PTRATIO</th>\n",
       "      <th>B</th>\n",
       "      <th>LSTAT</th>\n",
       "    </tr>\n",
       "  </thead>\n",
       "  <tbody>\n",
       "    <tr>\n",
       "      <th>254</th>\n",
       "      <td>0.03548</td>\n",
       "      <td>80.0</td>\n",
       "      <td>3.64</td>\n",
       "      <td>0</td>\n",
       "      <td>0.392</td>\n",
       "      <td>19.1000</td>\n",
       "      <td>9.2203</td>\n",
       "      <td>1</td>\n",
       "      <td>315.0</td>\n",
       "      <td>16.40</td>\n",
       "      <td>395.18</td>\n",
       "      <td>9.25</td>\n",
       "    </tr>\n",
       "    <tr>\n",
       "      <th>348</th>\n",
       "      <td>0.02899</td>\n",
       "      <td>40.0</td>\n",
       "      <td>1.25</td>\n",
       "      <td>0</td>\n",
       "      <td>0.429</td>\n",
       "      <td>34.5000</td>\n",
       "      <td>8.7921</td>\n",
       "      <td>1</td>\n",
       "      <td>335.0</td>\n",
       "      <td>19.70</td>\n",
       "      <td>389.85</td>\n",
       "      <td>5.89</td>\n",
       "    </tr>\n",
       "    <tr>\n",
       "      <th>476</th>\n",
       "      <td>0.00000</td>\n",
       "      <td>18.1</td>\n",
       "      <td>0.00</td>\n",
       "      <td>0</td>\n",
       "      <td>5.304</td>\n",
       "      <td>2.1007</td>\n",
       "      <td>24.0000</td>\n",
       "      <td>666</td>\n",
       "      <td>20.2</td>\n",
       "      <td>349.48</td>\n",
       "      <td>24.91</td>\n",
       "      <td>12.00</td>\n",
       "    </tr>\n",
       "    <tr>\n",
       "      <th>321</th>\n",
       "      <td>0.35114</td>\n",
       "      <td>0.0</td>\n",
       "      <td>7.38</td>\n",
       "      <td>0</td>\n",
       "      <td>0.493</td>\n",
       "      <td>49.9000</td>\n",
       "      <td>4.7211</td>\n",
       "      <td>5</td>\n",
       "      <td>287.0</td>\n",
       "      <td>19.60</td>\n",
       "      <td>396.90</td>\n",
       "      <td>7.70</td>\n",
       "    </tr>\n",
       "    <tr>\n",
       "      <th>326</th>\n",
       "      <td>0.24103</td>\n",
       "      <td>0.0</td>\n",
       "      <td>7.38</td>\n",
       "      <td>0</td>\n",
       "      <td>0.493</td>\n",
       "      <td>43.7000</td>\n",
       "      <td>5.4159</td>\n",
       "      <td>5</td>\n",
       "      <td>287.0</td>\n",
       "      <td>19.60</td>\n",
       "      <td>396.90</td>\n",
       "      <td>12.79</td>\n",
       "    </tr>\n",
       "    <tr>\n",
       "      <th>...</th>\n",
       "      <td>...</td>\n",
       "      <td>...</td>\n",
       "      <td>...</td>\n",
       "      <td>...</td>\n",
       "      <td>...</td>\n",
       "      <td>...</td>\n",
       "      <td>...</td>\n",
       "      <td>...</td>\n",
       "      <td>...</td>\n",
       "      <td>...</td>\n",
       "      <td>...</td>\n",
       "      <td>...</td>\n",
       "    </tr>\n",
       "    <tr>\n",
       "      <th>154</th>\n",
       "      <td>3.53501</td>\n",
       "      <td>0.0</td>\n",
       "      <td>19.58</td>\n",
       "      <td>1</td>\n",
       "      <td>0.871</td>\n",
       "      <td>82.6000</td>\n",
       "      <td>1.7455</td>\n",
       "      <td>5</td>\n",
       "      <td>403.0</td>\n",
       "      <td>14.70</td>\n",
       "      <td>88.01</td>\n",
       "      <td>15.02</td>\n",
       "    </tr>\n",
       "    <tr>\n",
       "      <th>423</th>\n",
       "      <td>8.79212</td>\n",
       "      <td>0.0</td>\n",
       "      <td>18.10</td>\n",
       "      <td>0</td>\n",
       "      <td>0.584</td>\n",
       "      <td>70.6000</td>\n",
       "      <td>2.0635</td>\n",
       "      <td>24</td>\n",
       "      <td>666.0</td>\n",
       "      <td>20.20</td>\n",
       "      <td>3.65</td>\n",
       "      <td>17.16</td>\n",
       "    </tr>\n",
       "    <tr>\n",
       "      <th>98</th>\n",
       "      <td>0.06860</td>\n",
       "      <td>0.0</td>\n",
       "      <td>2.89</td>\n",
       "      <td>0</td>\n",
       "      <td>0.445</td>\n",
       "      <td>62.5000</td>\n",
       "      <td>3.4952</td>\n",
       "      <td>2</td>\n",
       "      <td>276.0</td>\n",
       "      <td>18.00</td>\n",
       "      <td>396.90</td>\n",
       "      <td>6.19</td>\n",
       "    </tr>\n",
       "    <tr>\n",
       "      <th>455</th>\n",
       "      <td>4.66883</td>\n",
       "      <td>0.0</td>\n",
       "      <td>18.10</td>\n",
       "      <td>0</td>\n",
       "      <td>0.713</td>\n",
       "      <td>87.9000</td>\n",
       "      <td>2.5806</td>\n",
       "      <td>24</td>\n",
       "      <td>666.0</td>\n",
       "      <td>20.20</td>\n",
       "      <td>10.48</td>\n",
       "      <td>19.01</td>\n",
       "    </tr>\n",
       "    <tr>\n",
       "      <th>215</th>\n",
       "      <td>0.04560</td>\n",
       "      <td>0.0</td>\n",
       "      <td>13.89</td>\n",
       "      <td>1</td>\n",
       "      <td>0.550</td>\n",
       "      <td>56.0000</td>\n",
       "      <td>3.1121</td>\n",
       "      <td>5</td>\n",
       "      <td>276.0</td>\n",
       "      <td>16.40</td>\n",
       "      <td>392.80</td>\n",
       "      <td>13.51</td>\n",
       "    </tr>\n",
       "  </tbody>\n",
       "</table>\n",
       "<p>404 rows × 12 columns</p>\n",
       "</div>"
      ],
      "text/plain": [
       "        CRIM    ZN  INDUS  CHAS    NOX      AGE      DIS  RAD    TAX  PTRATIO  \\\n",
       "254  0.03548  80.0   3.64     0  0.392  19.1000   9.2203    1  315.0    16.40   \n",
       "348  0.02899  40.0   1.25     0  0.429  34.5000   8.7921    1  335.0    19.70   \n",
       "476  0.00000  18.1   0.00     0  5.304   2.1007  24.0000  666   20.2   349.48   \n",
       "321  0.35114   0.0   7.38     0  0.493  49.9000   4.7211    5  287.0    19.60   \n",
       "326  0.24103   0.0   7.38     0  0.493  43.7000   5.4159    5  287.0    19.60   \n",
       "..       ...   ...    ...   ...    ...      ...      ...  ...    ...      ...   \n",
       "154  3.53501   0.0  19.58     1  0.871  82.6000   1.7455    5  403.0    14.70   \n",
       "423  8.79212   0.0  18.10     0  0.584  70.6000   2.0635   24  666.0    20.20   \n",
       "98   0.06860   0.0   2.89     0  0.445  62.5000   3.4952    2  276.0    18.00   \n",
       "455  4.66883   0.0  18.10     0  0.713  87.9000   2.5806   24  666.0    20.20   \n",
       "215  0.04560   0.0  13.89     1  0.550  56.0000   3.1121    5  276.0    16.40   \n",
       "\n",
       "          B  LSTAT  \n",
       "254  395.18   9.25  \n",
       "348  389.85   5.89  \n",
       "476   24.91  12.00  \n",
       "321  396.90   7.70  \n",
       "326  396.90  12.79  \n",
       "..      ...    ...  \n",
       "154   88.01  15.02  \n",
       "423    3.65  17.16  \n",
       "98   396.90   6.19  \n",
       "455   10.48  19.01  \n",
       "215  392.80  13.51  \n",
       "\n",
       "[404 rows x 12 columns]"
      ]
     },
     "execution_count": 118,
     "metadata": {},
     "output_type": "execute_result"
    }
   ],
   "source": [
    "housing.drop(\"RM\",axis=1) #option 2\n",
    "\n"
   ]
  },
  {
   "cell_type": "code",
   "execution_count": 119,
   "id": "5a6d460f-9046-48dd-9630-fd5d9ab3e08a",
   "metadata": {},
   "outputs": [
    {
     "data": {
      "text/plain": [
       "254     5.8760\n",
       "348     6.9390\n",
       "476    97.3000\n",
       "321     6.0410\n",
       "326     6.0830\n",
       "        ...   \n",
       "154     6.1520\n",
       "423     5.5650\n",
       "98      6.3135\n",
       "455     5.9760\n",
       "215     5.8880\n",
       "Name: RM, Length: 404, dtype: float64"
      ]
     },
     "execution_count": 119,
     "metadata": {},
     "output_type": "execute_result"
    }
   ],
   "source": [
    "#option 3\n",
    "median=housing[\"RM\"].median()\n",
    "housing[\"RM\"].fillna(median)"
   ]
  },
  {
   "cell_type": "code",
   "execution_count": 120,
   "id": "321f79ce-3781-4282-b73c-e53e9344c01d",
   "metadata": {},
   "outputs": [
    {
     "name": "stdout",
     "output_type": "stream",
     "text": [
      "<class 'pandas.core.frame.DataFrame'>\n",
      "Index: 404 entries, 254 to 215\n",
      "Data columns (total 13 columns):\n",
      " #   Column   Non-Null Count  Dtype  \n",
      "---  ------   --------------  -----  \n",
      " 0   CRIM     404 non-null    float64\n",
      " 1   ZN       404 non-null    float64\n",
      " 2   INDUS    404 non-null    float64\n",
      " 3   CHAS     404 non-null    int64  \n",
      " 4   NOX      404 non-null    float64\n",
      " 5   RM       396 non-null    float64\n",
      " 6   AGE      404 non-null    float64\n",
      " 7   DIS      404 non-null    float64\n",
      " 8   RAD      404 non-null    int64  \n",
      " 9   TAX      404 non-null    float64\n",
      " 10  PTRATIO  404 non-null    float64\n",
      " 11  B        404 non-null    float64\n",
      " 12  LSTAT    404 non-null    float64\n",
      "dtypes: float64(11), int64(2)\n",
      "memory usage: 44.2 KB\n"
     ]
    }
   ],
   "source": [
    "housing.info()  ## before imputer\n",
    "# as we can see we havent applied any changes to the orginal data"
   ]
  },
  {
   "cell_type": "code",
   "execution_count": 121,
   "id": "cbec9036-b868-40b4-b2a0-c73bc99f1342",
   "metadata": {},
   "outputs": [
    {
     "data": {
      "text/plain": [
       "array([[3.54800e-02, 8.00000e+01, 3.64000e+00, ..., 1.64000e+01,\n",
       "        3.95180e+02, 9.25000e+00],\n",
       "       [2.89900e-02, 4.00000e+01, 1.25000e+00, ..., 1.97000e+01,\n",
       "        3.89850e+02, 5.89000e+00],\n",
       "       [0.00000e+00, 1.81000e+01, 0.00000e+00, ..., 3.49480e+02,\n",
       "        2.49100e+01, 1.20000e+01],\n",
       "       ...,\n",
       "       [6.86000e-02, 0.00000e+00, 2.89000e+00, ..., 1.80000e+01,\n",
       "        3.96900e+02, 6.19000e+00],\n",
       "       [4.66883e+00, 0.00000e+00, 1.81000e+01, ..., 2.02000e+01,\n",
       "        1.04800e+01, 1.90100e+01],\n",
       "       [4.56000e-02, 0.00000e+00, 1.38900e+01, ..., 1.64000e+01,\n",
       "        3.92800e+02, 1.35100e+01]])"
      ]
     },
     "execution_count": 121,
     "metadata": {},
     "output_type": "execute_result"
    }
   ],
   "source": [
    "from sklearn.impute import SimpleImputer\n",
    "imputer = SimpleImputer(strategy=\"median\")\n",
    "imputer.fit_transform(housing)"
   ]
  },
  {
   "cell_type": "code",
   "execution_count": 122,
   "id": "475ebd39-8034-4fe5-bf2f-e88c9850dc9b",
   "metadata": {},
   "outputs": [
    {
     "data": {
      "text/plain": [
       "array([1.52715e-01, 0.00000e+00, 7.38000e+00, 0.00000e+00, 5.38000e-01,\n",
       "       6.31350e+00, 6.49000e+01, 3.93960e+00, 5.00000e+00, 3.07000e+02,\n",
       "       1.89000e+01, 3.90090e+02, 1.04350e+01])"
      ]
     },
     "execution_count": 122,
     "metadata": {},
     "output_type": "execute_result"
    }
   ],
   "source": [
    "imputer.statistics_"
   ]
  },
  {
   "cell_type": "code",
   "execution_count": 123,
   "id": "f7f59bb1-b18f-44a1-9aa4-f95eb5a87cc5",
   "metadata": {},
   "outputs": [],
   "source": [
    "X=imputer.transform(housing)\n",
    "housing_tr=pd.DataFrame(X,columns=housing.columns)"
   ]
  },
  {
   "cell_type": "code",
   "execution_count": 124,
   "id": "dc3dd9cb-e755-484a-90c0-f770d5cb3cd4",
   "metadata": {},
   "outputs": [
    {
     "data": {
      "text/html": [
       "<div>\n",
       "<style scoped>\n",
       "    .dataframe tbody tr th:only-of-type {\n",
       "        vertical-align: middle;\n",
       "    }\n",
       "\n",
       "    .dataframe tbody tr th {\n",
       "        vertical-align: top;\n",
       "    }\n",
       "\n",
       "    .dataframe thead th {\n",
       "        text-align: right;\n",
       "    }\n",
       "</style>\n",
       "<table border=\"1\" class=\"dataframe\">\n",
       "  <thead>\n",
       "    <tr style=\"text-align: right;\">\n",
       "      <th></th>\n",
       "      <th>CRIM</th>\n",
       "      <th>ZN</th>\n",
       "      <th>INDUS</th>\n",
       "      <th>CHAS</th>\n",
       "      <th>NOX</th>\n",
       "      <th>RM</th>\n",
       "      <th>AGE</th>\n",
       "      <th>DIS</th>\n",
       "      <th>RAD</th>\n",
       "      <th>TAX</th>\n",
       "      <th>PTRATIO</th>\n",
       "      <th>B</th>\n",
       "      <th>LSTAT</th>\n",
       "    </tr>\n",
       "  </thead>\n",
       "  <tbody>\n",
       "    <tr>\n",
       "      <th>count</th>\n",
       "      <td>404.000000</td>\n",
       "      <td>404.000000</td>\n",
       "      <td>404.000000</td>\n",
       "      <td>404.000000</td>\n",
       "      <td>404.000000</td>\n",
       "      <td>404.000000</td>\n",
       "      <td>404.000000</td>\n",
       "      <td>404.000000</td>\n",
       "      <td>404.000000</td>\n",
       "      <td>404.000000</td>\n",
       "      <td>404.000000</td>\n",
       "      <td>404.000000</td>\n",
       "      <td>404.000000</td>\n",
       "    </tr>\n",
       "    <tr>\n",
       "      <th>mean</th>\n",
       "      <td>1.280911</td>\n",
       "      <td>12.250248</td>\n",
       "      <td>9.250619</td>\n",
       "      <td>0.069307</td>\n",
       "      <td>1.135715</td>\n",
       "      <td>16.243597</td>\n",
       "      <td>58.024733</td>\n",
       "      <td>6.313351</td>\n",
       "      <td>82.789604</td>\n",
       "      <td>337.604455</td>\n",
       "      <td>42.586658</td>\n",
       "      <td>329.762772</td>\n",
       "      <td>11.600891</td>\n",
       "    </tr>\n",
       "    <tr>\n",
       "      <th>std</th>\n",
       "      <td>2.397872</td>\n",
       "      <td>21.725453</td>\n",
       "      <td>7.180685</td>\n",
       "      <td>0.254290</td>\n",
       "      <td>1.679323</td>\n",
       "      <td>27.956883</td>\n",
       "      <td>33.548450</td>\n",
       "      <td>6.653072</td>\n",
       "      <td>209.435630</td>\n",
       "      <td>181.550002</td>\n",
       "      <td>86.495766</td>\n",
       "      <td>127.999795</td>\n",
       "      <td>6.015916</td>\n",
       "    </tr>\n",
       "    <tr>\n",
       "      <th>min</th>\n",
       "      <td>0.000000</td>\n",
       "      <td>0.000000</td>\n",
       "      <td>0.000000</td>\n",
       "      <td>0.000000</td>\n",
       "      <td>0.385000</td>\n",
       "      <td>3.561000</td>\n",
       "      <td>1.137000</td>\n",
       "      <td>1.129600</td>\n",
       "      <td>1.000000</td>\n",
       "      <td>20.200000</td>\n",
       "      <td>2.600000</td>\n",
       "      <td>0.320000</td>\n",
       "      <td>1.730000</td>\n",
       "    </tr>\n",
       "    <tr>\n",
       "      <th>25%</th>\n",
       "      <td>0.054523</td>\n",
       "      <td>0.000000</td>\n",
       "      <td>3.432500</td>\n",
       "      <td>0.000000</td>\n",
       "      <td>0.452000</td>\n",
       "      <td>5.966000</td>\n",
       "      <td>31.025000</td>\n",
       "      <td>2.448475</td>\n",
       "      <td>4.000000</td>\n",
       "      <td>254.000000</td>\n",
       "      <td>17.400000</td>\n",
       "      <td>364.090000</td>\n",
       "      <td>7.180000</td>\n",
       "    </tr>\n",
       "    <tr>\n",
       "      <th>50%</th>\n",
       "      <td>0.152715</td>\n",
       "      <td>0.000000</td>\n",
       "      <td>7.380000</td>\n",
       "      <td>0.000000</td>\n",
       "      <td>0.538000</td>\n",
       "      <td>6.313500</td>\n",
       "      <td>64.900000</td>\n",
       "      <td>3.939600</td>\n",
       "      <td>5.000000</td>\n",
       "      <td>307.000000</td>\n",
       "      <td>18.900000</td>\n",
       "      <td>390.090000</td>\n",
       "      <td>10.435000</td>\n",
       "    </tr>\n",
       "    <tr>\n",
       "      <th>75%</th>\n",
       "      <td>0.850718</td>\n",
       "      <td>18.100000</td>\n",
       "      <td>18.100000</td>\n",
       "      <td>0.000000</td>\n",
       "      <td>0.655000</td>\n",
       "      <td>6.860250</td>\n",
       "      <td>89.325000</td>\n",
       "      <td>6.286525</td>\n",
       "      <td>24.000000</td>\n",
       "      <td>403.000000</td>\n",
       "      <td>20.200000</td>\n",
       "      <td>395.565000</td>\n",
       "      <td>15.005000</td>\n",
       "    </tr>\n",
       "    <tr>\n",
       "      <th>max</th>\n",
       "      <td>9.966540</td>\n",
       "      <td>100.000000</td>\n",
       "      <td>27.740000</td>\n",
       "      <td>1.000000</td>\n",
       "      <td>6.852000</td>\n",
       "      <td>100.000000</td>\n",
       "      <td>100.000000</td>\n",
       "      <td>24.000000</td>\n",
       "      <td>666.000000</td>\n",
       "      <td>711.000000</td>\n",
       "      <td>396.900000</td>\n",
       "      <td>396.900000</td>\n",
       "      <td>34.410000</td>\n",
       "    </tr>\n",
       "  </tbody>\n",
       "</table>\n",
       "</div>"
      ],
      "text/plain": [
       "             CRIM          ZN       INDUS        CHAS         NOX          RM  \\\n",
       "count  404.000000  404.000000  404.000000  404.000000  404.000000  404.000000   \n",
       "mean     1.280911   12.250248    9.250619    0.069307    1.135715   16.243597   \n",
       "std      2.397872   21.725453    7.180685    0.254290    1.679323   27.956883   \n",
       "min      0.000000    0.000000    0.000000    0.000000    0.385000    3.561000   \n",
       "25%      0.054523    0.000000    3.432500    0.000000    0.452000    5.966000   \n",
       "50%      0.152715    0.000000    7.380000    0.000000    0.538000    6.313500   \n",
       "75%      0.850718   18.100000   18.100000    0.000000    0.655000    6.860250   \n",
       "max      9.966540  100.000000   27.740000    1.000000    6.852000  100.000000   \n",
       "\n",
       "              AGE         DIS         RAD         TAX     PTRATIO           B  \\\n",
       "count  404.000000  404.000000  404.000000  404.000000  404.000000  404.000000   \n",
       "mean    58.024733    6.313351   82.789604  337.604455   42.586658  329.762772   \n",
       "std     33.548450    6.653072  209.435630  181.550002   86.495766  127.999795   \n",
       "min      1.137000    1.129600    1.000000   20.200000    2.600000    0.320000   \n",
       "25%     31.025000    2.448475    4.000000  254.000000   17.400000  364.090000   \n",
       "50%     64.900000    3.939600    5.000000  307.000000   18.900000  390.090000   \n",
       "75%     89.325000    6.286525   24.000000  403.000000   20.200000  395.565000   \n",
       "max    100.000000   24.000000  666.000000  711.000000  396.900000  396.900000   \n",
       "\n",
       "            LSTAT  \n",
       "count  404.000000  \n",
       "mean    11.600891  \n",
       "std      6.015916  \n",
       "min      1.730000  \n",
       "25%      7.180000  \n",
       "50%     10.435000  \n",
       "75%     15.005000  \n",
       "max     34.410000  "
      ]
     },
     "execution_count": 124,
     "metadata": {},
     "output_type": "execute_result"
    }
   ],
   "source": [
    "housing_tr.describe()"
   ]
  },
  {
   "cell_type": "code",
   "execution_count": 125,
   "id": "dc2f530a-1dfe-478b-9555-121a726be905",
   "metadata": {},
   "outputs": [],
   "source": [
    "housing=housing_tr.copy()"
   ]
  },
  {
   "cell_type": "code",
   "execution_count": 126,
   "id": "a3b71c7d-9a7d-46c8-b62e-dcbdc53de4e8",
   "metadata": {},
   "outputs": [
    {
     "data": {
      "text/html": [
       "<div>\n",
       "<style scoped>\n",
       "    .dataframe tbody tr th:only-of-type {\n",
       "        vertical-align: middle;\n",
       "    }\n",
       "\n",
       "    .dataframe tbody tr th {\n",
       "        vertical-align: top;\n",
       "    }\n",
       "\n",
       "    .dataframe thead th {\n",
       "        text-align: right;\n",
       "    }\n",
       "</style>\n",
       "<table border=\"1\" class=\"dataframe\">\n",
       "  <thead>\n",
       "    <tr style=\"text-align: right;\">\n",
       "      <th></th>\n",
       "      <th>CRIM</th>\n",
       "      <th>ZN</th>\n",
       "      <th>INDUS</th>\n",
       "      <th>CHAS</th>\n",
       "      <th>NOX</th>\n",
       "      <th>RM</th>\n",
       "      <th>AGE</th>\n",
       "      <th>DIS</th>\n",
       "      <th>RAD</th>\n",
       "      <th>TAX</th>\n",
       "      <th>PTRATIO</th>\n",
       "      <th>B</th>\n",
       "      <th>LSTAT</th>\n",
       "    </tr>\n",
       "  </thead>\n",
       "  <tbody>\n",
       "    <tr>\n",
       "      <th>count</th>\n",
       "      <td>404.000000</td>\n",
       "      <td>404.000000</td>\n",
       "      <td>404.000000</td>\n",
       "      <td>404.000000</td>\n",
       "      <td>404.000000</td>\n",
       "      <td>404.000000</td>\n",
       "      <td>404.000000</td>\n",
       "      <td>404.000000</td>\n",
       "      <td>404.000000</td>\n",
       "      <td>404.000000</td>\n",
       "      <td>404.000000</td>\n",
       "      <td>404.000000</td>\n",
       "      <td>404.000000</td>\n",
       "    </tr>\n",
       "    <tr>\n",
       "      <th>mean</th>\n",
       "      <td>1.280911</td>\n",
       "      <td>12.250248</td>\n",
       "      <td>9.250619</td>\n",
       "      <td>0.069307</td>\n",
       "      <td>1.135715</td>\n",
       "      <td>16.243597</td>\n",
       "      <td>58.024733</td>\n",
       "      <td>6.313351</td>\n",
       "      <td>82.789604</td>\n",
       "      <td>337.604455</td>\n",
       "      <td>42.586658</td>\n",
       "      <td>329.762772</td>\n",
       "      <td>11.600891</td>\n",
       "    </tr>\n",
       "    <tr>\n",
       "      <th>std</th>\n",
       "      <td>2.397872</td>\n",
       "      <td>21.725453</td>\n",
       "      <td>7.180685</td>\n",
       "      <td>0.254290</td>\n",
       "      <td>1.679323</td>\n",
       "      <td>27.956883</td>\n",
       "      <td>33.548450</td>\n",
       "      <td>6.653072</td>\n",
       "      <td>209.435630</td>\n",
       "      <td>181.550002</td>\n",
       "      <td>86.495766</td>\n",
       "      <td>127.999795</td>\n",
       "      <td>6.015916</td>\n",
       "    </tr>\n",
       "    <tr>\n",
       "      <th>min</th>\n",
       "      <td>0.000000</td>\n",
       "      <td>0.000000</td>\n",
       "      <td>0.000000</td>\n",
       "      <td>0.000000</td>\n",
       "      <td>0.385000</td>\n",
       "      <td>3.561000</td>\n",
       "      <td>1.137000</td>\n",
       "      <td>1.129600</td>\n",
       "      <td>1.000000</td>\n",
       "      <td>20.200000</td>\n",
       "      <td>2.600000</td>\n",
       "      <td>0.320000</td>\n",
       "      <td>1.730000</td>\n",
       "    </tr>\n",
       "    <tr>\n",
       "      <th>25%</th>\n",
       "      <td>0.054523</td>\n",
       "      <td>0.000000</td>\n",
       "      <td>3.432500</td>\n",
       "      <td>0.000000</td>\n",
       "      <td>0.452000</td>\n",
       "      <td>5.966000</td>\n",
       "      <td>31.025000</td>\n",
       "      <td>2.448475</td>\n",
       "      <td>4.000000</td>\n",
       "      <td>254.000000</td>\n",
       "      <td>17.400000</td>\n",
       "      <td>364.090000</td>\n",
       "      <td>7.180000</td>\n",
       "    </tr>\n",
       "    <tr>\n",
       "      <th>50%</th>\n",
       "      <td>0.152715</td>\n",
       "      <td>0.000000</td>\n",
       "      <td>7.380000</td>\n",
       "      <td>0.000000</td>\n",
       "      <td>0.538000</td>\n",
       "      <td>6.313500</td>\n",
       "      <td>64.900000</td>\n",
       "      <td>3.939600</td>\n",
       "      <td>5.000000</td>\n",
       "      <td>307.000000</td>\n",
       "      <td>18.900000</td>\n",
       "      <td>390.090000</td>\n",
       "      <td>10.435000</td>\n",
       "    </tr>\n",
       "    <tr>\n",
       "      <th>75%</th>\n",
       "      <td>0.850718</td>\n",
       "      <td>18.100000</td>\n",
       "      <td>18.100000</td>\n",
       "      <td>0.000000</td>\n",
       "      <td>0.655000</td>\n",
       "      <td>6.860250</td>\n",
       "      <td>89.325000</td>\n",
       "      <td>6.286525</td>\n",
       "      <td>24.000000</td>\n",
       "      <td>403.000000</td>\n",
       "      <td>20.200000</td>\n",
       "      <td>395.565000</td>\n",
       "      <td>15.005000</td>\n",
       "    </tr>\n",
       "    <tr>\n",
       "      <th>max</th>\n",
       "      <td>9.966540</td>\n",
       "      <td>100.000000</td>\n",
       "      <td>27.740000</td>\n",
       "      <td>1.000000</td>\n",
       "      <td>6.852000</td>\n",
       "      <td>100.000000</td>\n",
       "      <td>100.000000</td>\n",
       "      <td>24.000000</td>\n",
       "      <td>666.000000</td>\n",
       "      <td>711.000000</td>\n",
       "      <td>396.900000</td>\n",
       "      <td>396.900000</td>\n",
       "      <td>34.410000</td>\n",
       "    </tr>\n",
       "  </tbody>\n",
       "</table>\n",
       "</div>"
      ],
      "text/plain": [
       "             CRIM          ZN       INDUS        CHAS         NOX          RM  \\\n",
       "count  404.000000  404.000000  404.000000  404.000000  404.000000  404.000000   \n",
       "mean     1.280911   12.250248    9.250619    0.069307    1.135715   16.243597   \n",
       "std      2.397872   21.725453    7.180685    0.254290    1.679323   27.956883   \n",
       "min      0.000000    0.000000    0.000000    0.000000    0.385000    3.561000   \n",
       "25%      0.054523    0.000000    3.432500    0.000000    0.452000    5.966000   \n",
       "50%      0.152715    0.000000    7.380000    0.000000    0.538000    6.313500   \n",
       "75%      0.850718   18.100000   18.100000    0.000000    0.655000    6.860250   \n",
       "max      9.966540  100.000000   27.740000    1.000000    6.852000  100.000000   \n",
       "\n",
       "              AGE         DIS         RAD         TAX     PTRATIO           B  \\\n",
       "count  404.000000  404.000000  404.000000  404.000000  404.000000  404.000000   \n",
       "mean    58.024733    6.313351   82.789604  337.604455   42.586658  329.762772   \n",
       "std     33.548450    6.653072  209.435630  181.550002   86.495766  127.999795   \n",
       "min      1.137000    1.129600    1.000000   20.200000    2.600000    0.320000   \n",
       "25%     31.025000    2.448475    4.000000  254.000000   17.400000  364.090000   \n",
       "50%     64.900000    3.939600    5.000000  307.000000   18.900000  390.090000   \n",
       "75%     89.325000    6.286525   24.000000  403.000000   20.200000  395.565000   \n",
       "max    100.000000   24.000000  666.000000  711.000000  396.900000  396.900000   \n",
       "\n",
       "            LSTAT  \n",
       "count  404.000000  \n",
       "mean    11.600891  \n",
       "std      6.015916  \n",
       "min      1.730000  \n",
       "25%      7.180000  \n",
       "50%     10.435000  \n",
       "75%     15.005000  \n",
       "max     34.410000  "
      ]
     },
     "execution_count": 126,
     "metadata": {},
     "output_type": "execute_result"
    }
   ],
   "source": [
    "housing.describe()"
   ]
  },
  {
   "cell_type": "markdown",
   "id": "fe2276d9-f481-4878-b6b4-7921389c931e",
   "metadata": {},
   "source": [
    "# SCIKIT LEARN DESCRIBE"
   ]
  },
  {
   "cell_type": "markdown",
   "id": "e1453a63-029b-4c59-af03-ecfc848cea21",
   "metadata": {},
   "source": [
    "## Primarily 3 types of objects\n",
    "#### 1. Estimators- estimates some parameter based on dataset. eg - imputer\n",
    "#### It has fit method and transform method.\n",
    "#### 2. Transforms- tranforms method takes input and returs output based on the learnings from fit(). It also has a convience function fit_tranfrom() which fits and then transforms. like we did in 146th code block.\n",
    "#### 3. Predictors- Linear regression model is its example. fit() and predict() are two common functions.It also gives score functions that evalute your predictions."
   ]
  },
  {
   "cell_type": "markdown",
   "id": "29b847da-8b77-4b0b-8abd-569e743d74e6",
   "metadata": {},
   "source": [
    "## Feature Scaling (ALL FEATURES IN SAME RANGE)\n",
    "#### primarily 2 types of feature scaling method \n",
    "1. Min - Max Scaling (Normalization) = (value-min)/(max-min) -> goes to 0 to 1\n",
    "   Sklearn provides a class called MinMaxScaler for this\n",
    "2. Standardization- (value-mean)/stadard deviation -> variance-1 and mean is 0 only\n",
    "   Sklearn provided a class called Standard Scalar for this\n",
    "   Unlike normalization, standardization is less affected by outliers because it uses the    mean and standard deviation, which are more robust statistics."
   ]
  },
  {
   "cell_type": "markdown",
   "id": "18cca8c2-c6ab-4399-9947-1e2e89f00c79",
   "metadata": {},
   "source": [
    "# CREATING PIPELINE"
   ]
  },
  {
   "cell_type": "code",
   "execution_count": 127,
   "id": "23904132-2975-4666-b152-db5d170dac3d",
   "metadata": {},
   "outputs": [],
   "source": [
    "from sklearn.pipeline import Pipeline\n"
   ]
  },
  {
   "cell_type": "code",
   "execution_count": 128,
   "id": "3a47337d-24da-441e-8698-bb3dd85ce3d0",
   "metadata": {},
   "outputs": [],
   "source": [
    "from sklearn.preprocessing import StandardScaler\n",
    "my_pipeline=Pipeline([(\"imputer\",SimpleImputer(strategy=\"median\")),('std_scalar',StandardScaler())])\n",
    "    "
   ]
  },
  {
   "cell_type": "code",
   "execution_count": 129,
   "id": "e83c8c39-1bf0-470a-953f-047f17abe1c4",
   "metadata": {},
   "outputs": [],
   "source": [
    "housing_num_tr=my_pipeline.fit_transform(housing_tr)"
   ]
  },
  {
   "cell_type": "code",
   "execution_count": 130,
   "id": "10af2e4d-db0f-4b34-a482-1f100d127c91",
   "metadata": {},
   "outputs": [
    {
     "data": {
      "text/plain": [
       "(404, 13)"
      ]
     },
     "execution_count": 130,
     "metadata": {},
     "output_type": "execute_result"
    }
   ],
   "source": [
    "housing_num_tr.shape\n",
    "## its now array as we are now using predictors \n"
   ]
  },
  {
   "cell_type": "markdown",
   "id": "fd3568f8-9f88-4f2d-9ff3-7ebc24c71fc8",
   "metadata": {},
   "source": [
    "## Selecting a desired model for the problem"
   ]
  },
  {
   "cell_type": "code",
   "execution_count": 157,
   "id": "4dfada6f-bd98-49ee-8e19-fe37dcfa7457",
   "metadata": {},
   "outputs": [
    {
     "data": {
      "text/html": [
       "<style>#sk-container-id-3 {color: black;}#sk-container-id-3 pre{padding: 0;}#sk-container-id-3 div.sk-toggleable {background-color: white;}#sk-container-id-3 label.sk-toggleable__label {cursor: pointer;display: block;width: 100%;margin-bottom: 0;padding: 0.3em;box-sizing: border-box;text-align: center;}#sk-container-id-3 label.sk-toggleable__label-arrow:before {content: \"▸\";float: left;margin-right: 0.25em;color: #696969;}#sk-container-id-3 label.sk-toggleable__label-arrow:hover:before {color: black;}#sk-container-id-3 div.sk-estimator:hover label.sk-toggleable__label-arrow:before {color: black;}#sk-container-id-3 div.sk-toggleable__content {max-height: 0;max-width: 0;overflow: hidden;text-align: left;background-color: #f0f8ff;}#sk-container-id-3 div.sk-toggleable__content pre {margin: 0.2em;color: black;border-radius: 0.25em;background-color: #f0f8ff;}#sk-container-id-3 input.sk-toggleable__control:checked~div.sk-toggleable__content {max-height: 200px;max-width: 100%;overflow: auto;}#sk-container-id-3 input.sk-toggleable__control:checked~label.sk-toggleable__label-arrow:before {content: \"▾\";}#sk-container-id-3 div.sk-estimator input.sk-toggleable__control:checked~label.sk-toggleable__label {background-color: #d4ebff;}#sk-container-id-3 div.sk-label input.sk-toggleable__control:checked~label.sk-toggleable__label {background-color: #d4ebff;}#sk-container-id-3 input.sk-hidden--visually {border: 0;clip: rect(1px 1px 1px 1px);clip: rect(1px, 1px, 1px, 1px);height: 1px;margin: -1px;overflow: hidden;padding: 0;position: absolute;width: 1px;}#sk-container-id-3 div.sk-estimator {font-family: monospace;background-color: #f0f8ff;border: 1px dotted black;border-radius: 0.25em;box-sizing: border-box;margin-bottom: 0.5em;}#sk-container-id-3 div.sk-estimator:hover {background-color: #d4ebff;}#sk-container-id-3 div.sk-parallel-item::after {content: \"\";width: 100%;border-bottom: 1px solid gray;flex-grow: 1;}#sk-container-id-3 div.sk-label:hover label.sk-toggleable__label {background-color: #d4ebff;}#sk-container-id-3 div.sk-serial::before {content: \"\";position: absolute;border-left: 1px solid gray;box-sizing: border-box;top: 0;bottom: 0;left: 50%;z-index: 0;}#sk-container-id-3 div.sk-serial {display: flex;flex-direction: column;align-items: center;background-color: white;padding-right: 0.2em;padding-left: 0.2em;position: relative;}#sk-container-id-3 div.sk-item {position: relative;z-index: 1;}#sk-container-id-3 div.sk-parallel {display: flex;align-items: stretch;justify-content: center;background-color: white;position: relative;}#sk-container-id-3 div.sk-item::before, #sk-container-id-3 div.sk-parallel-item::before {content: \"\";position: absolute;border-left: 1px solid gray;box-sizing: border-box;top: 0;bottom: 0;left: 50%;z-index: -1;}#sk-container-id-3 div.sk-parallel-item {display: flex;flex-direction: column;z-index: 1;position: relative;background-color: white;}#sk-container-id-3 div.sk-parallel-item:first-child::after {align-self: flex-end;width: 50%;}#sk-container-id-3 div.sk-parallel-item:last-child::after {align-self: flex-start;width: 50%;}#sk-container-id-3 div.sk-parallel-item:only-child::after {width: 0;}#sk-container-id-3 div.sk-dashed-wrapped {border: 1px dashed gray;margin: 0 0.4em 0.5em 0.4em;box-sizing: border-box;padding-bottom: 0.4em;background-color: white;}#sk-container-id-3 div.sk-label label {font-family: monospace;font-weight: bold;display: inline-block;line-height: 1.2em;}#sk-container-id-3 div.sk-label-container {text-align: center;}#sk-container-id-3 div.sk-container {/* jupyter's `normalize.less` sets `[hidden] { display: none; }` but bootstrap.min.css set `[hidden] { display: none !important; }` so we also need the `!important` here to be able to override the default hidden behavior on the sphinx rendered scikit-learn.org. See: https://github.com/scikit-learn/scikit-learn/issues/21755 */display: inline-block !important;position: relative;}#sk-container-id-3 div.sk-text-repr-fallback {display: none;}</style><div id=\"sk-container-id-3\" class=\"sk-top-container\"><div class=\"sk-text-repr-fallback\"><pre>RandomForestRegressor(random_state=42)</pre><b>In a Jupyter environment, please rerun this cell to show the HTML representation or trust the notebook. <br />On GitHub, the HTML representation is unable to render, please try loading this page with nbviewer.org.</b></div><div class=\"sk-container\" hidden><div class=\"sk-item\"><div class=\"sk-estimator sk-toggleable\"><input class=\"sk-toggleable__control sk-hidden--visually\" id=\"sk-estimator-id-3\" type=\"checkbox\" checked><label for=\"sk-estimator-id-3\" class=\"sk-toggleable__label sk-toggleable__label-arrow\">RandomForestRegressor</label><div class=\"sk-toggleable__content\"><pre>RandomForestRegressor(random_state=42)</pre></div></div></div></div></div>"
      ],
      "text/plain": [
       "RandomForestRegressor(random_state=42)"
      ]
     },
     "execution_count": 157,
     "metadata": {},
     "output_type": "execute_result"
    }
   ],
   "source": [
    "# from sklearn.linear_model import LinearRegression\n",
    "# model=LinearRegression() #(ye bekar tha)\n",
    "# from sklearn.tree import DecisionTreeRegressor \n",
    "#overfit kar diya bhai\n",
    "# model=DecisionTreeRegressor()\n",
    "from sklearn.ensemble import RandomForestRegressor\n",
    "model=RandomForestRegressor(n_estimators=100,random_state=42)\n",
    "model.fit(housing_num_tr,housing_labels) ## model train kar diya "
   ]
  },
  {
   "cell_type": "code",
   "execution_count": 158,
   "id": "5f7ede87-51f7-434f-87dd-93ea590c4ea5",
   "metadata": {},
   "outputs": [],
   "source": [
    "some_data=housing.iloc[:5]\n",
    "some_labels=housing_labels.iloc[:5]"
   ]
  },
  {
   "cell_type": "code",
   "execution_count": 159,
   "id": "fb26cce6-7602-4f0f-ac77-00a2a002b550",
   "metadata": {},
   "outputs": [
    {
     "data": {
      "text/plain": [
       "array([20.15      , 26.41100885, 23.75093805, 20.977     , 21.932     ])"
      ]
     },
     "execution_count": 159,
     "metadata": {},
     "output_type": "execute_result"
    }
   ],
   "source": [
    "prepared_data=my_pipeline.transform(some_data) ## data ko model me dalne ke liye prepare kar diya\n",
    "model.predict(prepared_data)"
   ]
  },
  {
   "cell_type": "code",
   "execution_count": 160,
   "id": "db64d650-fe53-4354-9405-547cbd16ec93",
   "metadata": {},
   "outputs": [
    {
     "data": {
      "text/plain": [
       "[20.9, 26.6, 23.750442477876106, 20.4, 22.2]"
      ]
     },
     "execution_count": 160,
     "metadata": {},
     "output_type": "execute_result"
    }
   ],
   "source": [
    "list(some_labels)\n"
   ]
  },
  {
   "cell_type": "markdown",
   "id": "1cd5f7fc-7734-42fe-b86d-54ae4298afb5",
   "metadata": {},
   "source": [
    "## Evaluating the model"
   ]
  },
  {
   "cell_type": "code",
   "execution_count": 161,
   "id": "bea43f53-22d7-4b32-9134-bc54f1a4e2aa",
   "metadata": {},
   "outputs": [],
   "source": [
    "from sklearn.metrics import mean_squared_error"
   ]
  },
  {
   "cell_type": "code",
   "execution_count": 177,
   "id": "c10d32c4-c53f-4957-9bc3-8f802a863fa5",
   "metadata": {},
   "outputs": [],
   "source": [
    "housing_prediction=model.predict(housing_num_tr)\n",
    "mse=mean_squared_error(housing_labels,housing_prediction)\n",
    "rmse=np.sqrt(mse)\n",
    "\n"
   ]
  },
  {
   "cell_type": "code",
   "execution_count": 178,
   "id": "85093c13-f5b6-4047-ad04-064ce12e7eaa",
   "metadata": {},
   "outputs": [
    {
     "data": {
      "text/plain": [
       "1.2431692344754754"
      ]
     },
     "execution_count": 178,
     "metadata": {},
     "output_type": "execute_result"
    }
   ],
   "source": [
    "rmse"
   ]
  },
  {
   "cell_type": "markdown",
   "id": "507fb2b1-17ae-4c6e-bda5-1942db60ffd1",
   "metadata": {},
   "source": [
    "## ye toh overfit ho gya hai bhai"
   ]
  },
  {
   "cell_type": "code",
   "execution_count": 179,
   "id": "27690124-81a1-4ac3-8166-4681dd16967c",
   "metadata": {},
   "outputs": [],
   "source": [
    "#using better evalution technique- Cross Validation\n",
    "from sklearn.model_selection import cross_val_score\n",
    "scores=cross_val_score(model,housing_num_tr,housing_labels,scoring=\"neg_mean_squared_error\",cv=10)\n",
    "rmse_scores=np.sqrt(-scores)\n"
   ]
  },
  {
   "cell_type": "code",
   "execution_count": 180,
   "id": "c14459f0-2535-4a80-a6e2-da0c2ded6a51",
   "metadata": {},
   "outputs": [
    {
     "data": {
      "text/plain": [
       "array([2.76497899, 2.99522571, 2.78340259, 2.57140141, 3.05476099,\n",
       "       2.98774391, 3.50674583, 3.859305  , 1.97067269, 5.71923131])"
      ]
     },
     "execution_count": 180,
     "metadata": {},
     "output_type": "execute_result"
    }
   ],
   "source": [
    "rmse_scores #( ye error hai total)"
   ]
  },
  {
   "cell_type": "code",
   "execution_count": 181,
   "id": "2f1e1d02-a8b6-4c1e-947d-4b73c563065f",
   "metadata": {},
   "outputs": [],
   "source": [
    "##still good\n",
    "def print_scores(scores):\n",
    "    print(\"scores:\",scores)\n",
    "    print(\"Mean:\",scores.mean())\n",
    "    print(\"Standard deviation:\",scores.std())"
   ]
  },
  {
   "cell_type": "code",
   "execution_count": 182,
   "id": "b52d9d2a-4ca9-47fe-ba90-34eaf97adcd4",
   "metadata": {},
   "outputs": [
    {
     "name": "stdout",
     "output_type": "stream",
     "text": [
      "scores: [2.76497899 2.99522571 2.78340259 2.57140141 3.05476099 2.98774391\n",
      " 3.50674583 3.859305   1.97067269 5.71923131]\n",
      "Mean: 3.2213468430469545\n",
      "Standard deviation: 0.9616654117480651\n"
     ]
    }
   ],
   "source": [
    "print_scores(rmse_scores)"
   ]
  },
  {
   "cell_type": "markdown",
   "id": "c1defdaa-ab3f-47bf-8e6d-e63f52e17be3",
   "metadata": {},
   "source": [
    " ## saving the model "
   ]
  },
  {
   "cell_type": "code",
   "execution_count": 168,
   "id": "f88d80ef-4880-41ca-a8c3-5b69a49690ab",
   "metadata": {},
   "outputs": [
    {
     "data": {
      "text/plain": [
       "['Housemodel.joblib']"
      ]
     },
     "execution_count": 168,
     "metadata": {},
     "output_type": "execute_result"
    }
   ],
   "source": [
    "from joblib import dump,load\n",
    "dump(model,'Housemodel.joblib')"
   ]
  },
  {
   "cell_type": "markdown",
   "id": "8b9650ec-12e0-42a3-80e8-bb69c7d0d677",
   "metadata": {},
   "source": [
    "## testing the model on test data"
   ]
  },
  {
   "cell_type": "code",
   "execution_count": 169,
   "id": "1fc71ae4-faaa-464b-944a-ab6e13b28ca3",
   "metadata": {},
   "outputs": [],
   "source": [
    "X_test=strat_test_set.drop(\"MEDV\",axis=1)"
   ]
  },
  {
   "cell_type": "code",
   "execution_count": 170,
   "id": "e937c5fb-42c1-4a1d-9969-38ec6dcf9bf5",
   "metadata": {},
   "outputs": [],
   "source": [
    "Y_test=strat_test_set[\"MEDV\"].copy()"
   ]
  },
  {
   "cell_type": "code",
   "execution_count": 171,
   "id": "34c9c506-c096-43a0-b431-db73a862b2b7",
   "metadata": {},
   "outputs": [],
   "source": [
    "X_test_prepared=my_pipeline.transform(X_test)"
   ]
  },
  {
   "cell_type": "code",
   "execution_count": 172,
   "id": "7f8b9ac7-3ac0-484e-adb9-10561b0a39a8",
   "metadata": {},
   "outputs": [],
   "source": [
    "final_predictions=model.predict(X_test_prepared)"
   ]
  },
  {
   "cell_type": "code",
   "execution_count": 173,
   "id": "59aa6981-f595-41e6-ab2d-c75a150c51a8",
   "metadata": {},
   "outputs": [],
   "source": [
    "final_mse=mean_squared_error(Y_test,final_predictions)"
   ]
  },
  {
   "cell_type": "code",
   "execution_count": 174,
   "id": "32d43fea-8867-41ea-802d-0047d1e8fbfd",
   "metadata": {},
   "outputs": [],
   "source": [
    "final_rmse=np.sqrt(final_mse)"
   ]
  },
  {
   "cell_type": "code",
   "execution_count": 175,
   "id": "a3a8ecd4-f9d7-49ab-b95a-5166e8d43382",
   "metadata": {},
   "outputs": [
    {
     "data": {
      "text/plain": [
       "2.93594777543992"
      ]
     },
     "execution_count": 175,
     "metadata": {},
     "output_type": "execute_result"
    }
   ],
   "source": [
    "final_rmse"
   ]
  },
  {
   "cell_type": "code",
   "execution_count": 176,
   "id": "dfdd6603-82fe-49fe-8217-c8f231850398",
   "metadata": {},
   "outputs": [
    {
     "data": {
      "image/png": "[encoded data removed]",
      "text/plain": [
       "<Figure size 640x480 with 1 Axes>"
      ]
     },
     "metadata": {},
     "output_type": "display_data"
    }
   ],
   "source": [
    "import matplotlib.pyplot as plt\n",
    "plt.hist(Y_test, bins=10, alpha=0.5, label='Y_test')\n",
    "plt.hist(final_predictions, bins=10, alpha=0.5, label='Predictions')\n",
    "plt.xlabel('Value')\n",
    "plt.ylabel('Frequency')\n",
    "plt.title('Histogram Comparison')\n",
    "plt.legend()\n",
    "plt.grid(True)  # Optional: Add grid lines\n",
    "plt.show()"
   ]
  },
  {
   "cell_type": "code",
   "execution_count": 151,
   "id": "542fc890-90ef-49d0-8c7b-af89175485da",
   "metadata": {},
   "outputs": [
    {
     "name": "stdout",
     "output_type": "stream",
     "text": [
      "[27.813500000000005, 23.74569026548681, 45.98849999999999, 21.938999999999993, 20.215252212389405, 17.446000000000016, 20.6715, 14.324999999999996, 35.487000000000016, 32.29749999999999, 18.24900000000001, 23.740190265486802, 19.328999999999997, 11.460999999999991, 20.04549999999998, 23.750442477876184, 23.460008849557507, 21.186999999999976, 23.95000000000003, 17.59950000000002, 19.754999999999985, 20.11149999999998, 23.75044247787619, 26.341999999999995, 19.614999999999984, 33.15349999999997, 16.464000000000002, 25.606499999999993, 23.74569026548681, 32.93799999999996, 23.770000000000035, 16.246999999999986, 24.036499999999997, 23.74569026548681, 22.253000000000007, 14.553000000000008, 40.22650442477885, 21.74749999999998, 23.40550442477875, 40.98400442477884, 19.905756637168153, 35.59575221238944, 19.888999999999967, 19.674004424778765, 18.844499999999993, 30.76249999999996, 44.51349999999996, 31.465504424778732, 14.747499999999995, 20.471999999999976, 19.84200000000003, 18.398999999999997, 27.588499999999986, 15.105499999999997, 21.034752212389385, 24.060999999999975, 47.32499999999998, 45.85950442477874, 31.952, 19.786252212389396, 35.54649999999996, 11.36, 24.00900000000001, 37.533752212389345, 23.750442477876184, 25.246499999999997, 22.570500000000006, 20.123999999999985, 18.40400000000001, 27.381252212389406, 26.859000000000048, 23.62900000000001, 32.35100000000001, 19.68475221238939, 31.43403097345134, 10.466999999999999, 16.487, 42.506499999999996, 19.527999999999984, 19.50949999999999, 32.60749999999995, 29.34350442477876, 27.95582300884964, 36.078999999999944, 21.7285, 25.897500000000004, 16.58150000000001, 22.64249999999999, 25.983, 20.322999999999993, 15.670000000000002, 26.189999999999994, 12.93525221238938, 32.956499999999984, 12.285500000000006, 25.98050000000002, 20.7465, 32.64049999999993, 13.038000000000006, 21.151500000000002, 18.693752212389406, 19.793499999999995] [23.9, 23.750442477876106, 44.8, 23.0, 19.4, 18.1, 19.7, 13.0, 34.6, 35.2, 19.7, 23.750442477876106, 19.9, 17.2, 18.5, 23.750442477876106, 22.0, 18.9, 23.1, 21.7, 19.6, 20.4, 23.750442477876106, 24.6, 19.3, 37.3, 16.1, 29.1, 23.750442477876106, 34.9, 23.2, 15.2, 22.6, 23.750442477876106, 22.3, 13.1, 48.8, 21.2, 20.7, 50.0, 23.7, 36.5, 21.7, 18.9, 19.5, 36.1, 48.3, 32.7, 19.0, 22.6, 17.5, 19.6, 22.5, 17.8, 20.3, 23.7, 37.6, 50.0, 35.4, 18.2, 33.3, 12.1, 23.1, 37.9, 23.750442477876106, 27.5, 23.8, 19.6, 19.6, 27.9, 27.0, 22.9, 31.7, 17.1, 30.3, 8.1, 13.1, 44.0, 19.5, 18.5, 23.6, 24.0, 23.750442477876106, 34.7, 20.5, 23.7, 14.2, 22.8, 23.9, 19.6, 15.2, 23.9, 6.3, 32.0, 13.4, 22.0, 24.5, 28.7, 19.1, 23.4, 20.5, 21.5]\n"
     ]
    }
   ],
   "source": [
    "print(list(final_predictions),list(Y_test))"
   ]
  },
  {
   "cell_type": "markdown",
   "id": "ce80225c-5e30-4f1d-a158-a8f3adce6a82",
   "metadata": {},
   "source": [
    "## finding the final accuracy"
   ]
  },
  {
   "cell_type": "code",
   "execution_count": 152,
   "id": "243182a5-d766-43d9-a448-c3180e9cee5e",
   "metadata": {},
   "outputs": [],
   "source": [
    "final_rmse=np.sqrt(final_mse)"
   ]
  },
  {
   "cell_type": "code",
   "execution_count": 153,
   "id": "33cd4a2e-e80c-433d-b2f8-0adfb1579dda",
   "metadata": {},
   "outputs": [
    {
     "data": {
      "text/plain": [
       "2.949156887637358"
      ]
     },
     "execution_count": 153,
     "metadata": {},
     "output_type": "execute_result"
    }
   ],
   "source": [
    "final_rmse"
   ]
  },
  {
   "cell_type": "code",
   "execution_count": 154,
   "id": "e44e4a87-4aab-49f6-8f08-811fca9013c3",
   "metadata": {},
   "outputs": [
    {
     "data": {
      "text/plain": [
       "array([-0.52003429,  3.12231727, -0.78231751, -0.27288841, -0.44341487,\n",
       "       -0.37130218, -1.16169293,  0.43747509, -0.39100805, -0.12466253,\n",
       "       -0.30312614,  0.5117066 , -0.39126308])"
      ]
     },
     "execution_count": 154,
     "metadata": {},
     "output_type": "execute_result"
    }
   ],
   "source": [
    "prepared_data[0]"
   ]
  },
  {
   "cell_type": "code",
   "execution_count": 155,
   "id": "a80fafb3-1df1-4454-a323-5601e33835e8",
   "metadata": {},
   "outputs": [
    {
     "data": {
      "text/plain": [
       "CRIM      -0.243510\n",
       "ZN         0.297921\n",
       "INDUS     -0.329366\n",
       "CHAS       0.196546\n",
       "NOX       -0.014935\n",
       "RM         0.022403\n",
       "AGE       -0.243914\n",
       "DIS        0.040699\n",
       "RAD       -0.000223\n",
       "TAX       -0.237555\n",
       "PTRATIO   -0.005664\n",
       "B          0.130550\n",
       "LSTAT     -0.672034\n",
       "MEDV       1.000000\n",
       "Name: MEDV, dtype: float64"
      ]
     },
     "execution_count": 155,
     "metadata": {},
     "output_type": "execute_result"
    }
   ],
   "source": [
    "corr_mat[\"MEDV\"]"
   ]
  },
  {
   "cell_type": "code",
   "execution_count": 156,
   "id": "7753cc48-c806-47bb-89d6-6474fbd6e24c",
   "metadata": {},
   "outputs": [
    {
     "data": {
      "text/plain": [
       "count    404.000000\n",
       "mean      11.600891\n",
       "std        6.015916\n",
       "min        1.730000\n",
       "25%        7.180000\n",
       "50%       10.435000\n",
       "75%       15.005000\n",
       "max       34.410000\n",
       "Name: LSTAT, dtype: float64"
      ]
     },
     "execution_count": 156,
     "metadata": {},
     "output_type": "execute_result"
    }
   ],
   "source": [
    "housing[\"LSTAT\"].describe()"
   ]
  },
  {
   "cell_type": "code",
   "execution_count": null,
   "id": "77163a41-0fc8-4f54-ad8a-e45ae0a64977",
   "metadata": {},
   "outputs": [],
   "source": []
  }
 ],
 "metadata": {
  "kernelspec": {
   "display_name": "Python 3 (ipykernel)",
   "language": "python",
   "name": "python3"
  },
  "language_info": {
   "codemirror_mode": {
    "name": "ipython",
    "version": 3
   },
   "file_extension": ".py",
   "mimetype": "text/x-python",
   "name": "python",
   "nbconvert_exporter": "python",
   "pygments_lexer": "ipython3",
   "version": "3.11.4"
  }
 },
 "nbformat": 4,
 "nbformat_minor": 5
}
