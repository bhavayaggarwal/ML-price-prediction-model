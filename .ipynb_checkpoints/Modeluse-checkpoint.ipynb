{
 "cells": [
  {
   "cell_type": "code",
   "execution_count": 3,
   "id": "a8688235-5dd1-4fb4-a246-8710c625e57c",
   "metadata": {},
   "outputs": [],
   "source": [
    "from joblib import dump,load\n",
    "import numpy as np\n",
    "\n"
   ]
  },
  {
   "cell_type": "code",
   "execution_count": 2,
   "id": "ef418305-44bf-41e0-8600-bdc7e33cb216",
   "metadata": {},
   "outputs": [],
   "source": [
    "model=load('Housemodel.joblib')"
   ]
  },
  {
   "cell_type": "code",
   "execution_count": 23,
   "id": "830fb739-f964-45ec-99a6-6687e080e65e",
   "metadata": {},
   "outputs": [
    {
     "data": {
      "text/plain": [
       "array([19.97751327])"
      ]
     },
     "execution_count": 23,
     "metadata": {},
     "output_type": "execute_result"
    }
   ],
   "source": [
    "input=np.array([[0.52003429,  2.12231727, -0.78231751, -0.27288841, -0.44341487,\n",
    "       -0.37130218, -1.16169293,  0.43747509, -0.39100805, -0.12466253,\n",
    "       -0.30312614,  0.5117066 , 0.99126308]])\n",
    "model.predict(input)"
   ]
  },
  {
   "cell_type": "code",
   "execution_count": null,
   "id": "db496a86-f61b-4ac2-b941-d1f201cf9c65",
   "metadata": {},
   "outputs": [],
   "source": []
  }
 ],
 "metadata": {
  "kernelspec": {
   "display_name": "Python 3 (ipykernel)",
   "language": "python",
   "name": "python3"
  },
  "language_info": {
   "codemirror_mode": {
    "name": "ipython",
    "version": 3
   },
   "file_extension": ".py",
   "mimetype": "text/x-python",
   "name": "python",
   "nbconvert_exporter": "python",
   "pygments_lexer": "ipython3",
   "version": "3.11.4"
  }
 },
 "nbformat": 4,
 "nbformat_minor": 5
}
